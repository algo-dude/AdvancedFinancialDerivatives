{
 "cells": [
  {
   "cell_type": "markdown",
   "metadata": {},
   "source": [
    "remove white space on plotly objects  \n",
    "ask dr.clark about proper plotting\n"
   ]
  },
  {
   "cell_type": "code",
   "execution_count": null,
   "metadata": {},
   "outputs": [],
   "source": [
    "import pandas as pd\n",
    "import numpy as np\n",
    "import matplotlib.pyplot as plt\n",
    "import datetime as dt\n",
    "# set plot width here\n",
    "plt.rcParams['figure.figsize'] = (15, 10)\n",
    "from functions import import_data, my_plot_function\n",
    "\n",
    "today = pd.to_datetime('today').strftime('%Y-%m-%d')\n",
    "\n",
    "tickers = ['^VIX','^VIX3M', 'VXX']\n",
    "\n",
    "VIX = import_data(tickers[0], '2018-01-01', today, '1d')\n",
    "VIX3M = import_data(tickers[1], '2018-01-01', today, '1d')\n",
    "VXX = import_data(tickers[2], '2018-01-01', today, '1d')\n"
   ]
  },
  {
   "cell_type": "code",
   "execution_count": null,
   "metadata": {},
   "outputs": [],
   "source": [
    "# plot vix and vix3m for the past month\n",
    "plt.plot(VIX[-42:].index, VIX[-42:]['Close'], label='VIX')\n",
    "plt.plot(VIX3M[-42:].index, VIX3M[-42:]['Close'], label='VIX3M')\n",
    "plt.legend()\n",
    "plt.show()\n",
    "\n"
   ]
  },
  {
   "cell_type": "code",
   "execution_count": null,
   "metadata": {},
   "outputs": [],
   "source": [
    "# repeat above cell with plotly for interactive plotting\n",
    "import plotly.graph_objects as go\n",
    "plot = go.Figure()\n",
    "plot.add_trace(go.Line(x=VIX[-42:].index, y=VIX[-42:]['Close'], name='VIX'))\n",
    "plot.add_trace(go.Line(x=VIX3M[-42:].index, y=VIX3M[-42:]['Close'], name='VIX3M'))\n",
    "plot.show()\n"
   ]
  },
  {
   "cell_type": "markdown",
   "metadata": {},
   "source": [
    "## The above shows that our most recent flip was correct\n",
    "\n",
    "put in image from realtest"
   ]
  },
  {
   "cell_type": "code",
   "execution_count": null,
   "metadata": {},
   "outputs": [],
   "source": [
    "# housekeeping to combine dataframes later\n",
    "\n",
    "df_master = pd.DataFrame(index=VIX.index)\n",
    "df_master['VXX'] = VXX['Close'].round(2)\n",
    "df_master['VIX'] = VIX['Close'].round(2)\n",
    "df_master['VIX3M'] = VIX3M['Close'].round(2)\n",
    "df_master['Contango'] = df_master['VIX'] < df_master['VIX3M']\n",
    "df_master.tail(10)\n"
   ]
  },
  {
   "cell_type": "markdown",
   "metadata": {},
   "source": [
    "\n",
    "* NOTE:  Remove the rounding in production code."
   ]
  },
  {
   "cell_type": "code",
   "execution_count": null,
   "metadata": {},
   "outputs": [],
   "source": [
    "df_master.tail(21)"
   ]
  },
  {
   "cell_type": "code",
   "execution_count": null,
   "metadata": {},
   "outputs": [],
   "source": [
    "df = pd.read_csv('vxx_xl.csv')\n",
    "# housekeeping\n",
    "df.drop(['symbol'], inplace=True, axis=1)\n",
    "# add - to date, exdate, and last date after 4 characters\n",
    "df['date'] = pd.to_datetime(df['date'].astype(str), format='%Y%m%d')\n",
    "df['exdate'] = pd.to_datetime(df['exdate'].astype(str), format='%Y%m%d')\n",
    "df['last_date'] = pd.to_datetime(df['last_date'].astype(str), format='%Y%m%d')\n",
    "df = df[df['volume'] != 0]\n",
    "# strike price is 100x too large\n",
    "df['strike_price'] = df['strike_price'] / 1000\n",
    "\n",
    "# Thank you to Bruce for the following code snippet.\n",
    "# In short: never iterate through the dataframe if you can avoid it.\n",
    "# Use a built in function or vectorize if possible.\n",
    "\n",
    "df_combined = pd.DataFrame()\n",
    "df_combined = df.merge(df_master, how = 'left', left_on = 'date', right_on = 'Date')\n",
    "df_combined.tail(20)"
   ]
  },
  {
   "cell_type": "code",
   "execution_count": null,
   "metadata": {},
   "outputs": [],
   "source": [
    "# How many NaN values are in the dataframe\n",
    "print(len(df_combined))\n",
    "df_combined.isna().sum()\n"
   ]
  },
  {
   "cell_type": "markdown",
   "metadata": {},
   "source": [
    "Perhaps this is because of.... low volume?  Let's clean up strike so that we only have strike within 20% of VXX"
   ]
  },
  {
   "cell_type": "code",
   "execution_count": null,
   "metadata": {},
   "outputs": [],
   "source": [
    "df_combined = df_combined.where(df_combined['strike_price'] < df_combined['VXX']*1.2).dropna()\n",
    "df_combined = df_combined.where(df_combined['strike_price'] > df_combined['VXX']*0.8).dropna()\n",
    "print(len(df_combined))\n",
    "# The 17 here is to only have the same option expiry date\n",
    "df_combined.tail(17)"
   ]
  },
  {
   "cell_type": "markdown",
   "metadata": {},
   "source": [
    "We have reduced from 233018 rows down to 36218 rows."
   ]
  },
  {
   "cell_type": "code",
   "execution_count": null,
   "metadata": {},
   "outputs": [],
   "source": [
    "print(df.cp_flag.value_counts())"
   ]
  },
  {
   "cell_type": "markdown",
   "metadata": {},
   "source": [
    "## NEED TO FIX HERE, SO THAT WE ONLY HAVE ONE EXPIRATION"
   ]
  },
  {
   "cell_type": "code",
   "execution_count": null,
   "metadata": {},
   "outputs": [],
   "source": [
    "df = df_combined\n",
    "df"
   ]
  },
  {
   "cell_type": "markdown",
   "metadata": {},
   "source": [
    "The above is probably a relatively calm set of options.  The week between Christmas and New Year's is typically low volume.  \n",
    "Let's use it as a 'benchmark'."
   ]
  },
  {
   "cell_type": "code",
   "execution_count": null,
   "metadata": {},
   "outputs": [],
   "source": [
    "# df for calls and puts\n",
    "c = df[df['cp_flag'] == 'C']\n",
    "p = df[df['cp_flag'] == 'P']"
   ]
  },
  {
   "cell_type": "code",
   "execution_count": null,
   "metadata": {},
   "outputs": [],
   "source": [
    "plot = go.Figure()\n",
    "plot.add_trace(go.Scatter(x=c['strike_price'], y=c['impl_volatility'], name='Call'))\n",
    "plot.add_trace(go.Scatter(x=p['strike_price'], y=p['impl_volatility'], name='Put', ))\n",
    "plot.update_layout(title_text='Implied Volatility vs Strike Price', xaxis_title='Strike', yaxis_title='IV')\n",
    "plot.show()"
   ]
  },
  {
   "cell_type": "code",
   "execution_count": null,
   "metadata": {},
   "outputs": [],
   "source": [
    "plot = go.Figure()\n",
    "plot.add_trace(go.Scatter(y=c['delta'], x=c['strike_price'], name='Call'))\n",
    "plot.add_trace(go.Scatter(y=p['delta'], x=p['strike_price'], name='Put', ))\n",
    "plot.update_layout(title_text='Delta vs Strike Price', xaxis_title='Strike', yaxis_title='Delta')\n",
    "plot.show()"
   ]
  },
  {
   "cell_type": "code",
   "execution_count": null,
   "metadata": {},
   "outputs": [],
   "source": [
    "plot = go.Figure()\n",
    "plot.add_trace(go.Scatter(y=c['gamma'], x=c['strike_price'], name='Call'))\n",
    "plot.add_trace(go.Scatter(y=p['gamma'], x=p['strike_price'], name='Put', ))\n",
    "plot.update_layout(title_text='Implied Volatility vs Strike Price', xaxis_title='Strike', yaxis_title='Gamma')\n",
    "plot.show()"
   ]
  },
  {
   "cell_type": "code",
   "execution_count": null,
   "metadata": {},
   "outputs": [],
   "source": []
  },
  {
   "cell_type": "markdown",
   "metadata": {},
   "source": [
    "## Exploratory Findings\n",
    "Puts have lower delta and gamma than calls, but higher IV.    \n",
    "\n",
    "Why?\n",
    "\n",
    "Let's model the IV of all of the calls and puts on the date 2021-12-31."
   ]
  },
  {
   "cell_type": "markdown",
   "metadata": {},
   "source": []
  },
  {
   "cell_type": "code",
   "execution_count": null,
   "metadata": {},
   "outputs": [],
   "source": [
    "df_combined['TTM'] = (df_combined['exdate'] - df_combined['date']).dt.days\n",
    "# convert TTM to only numerical days\n",
    "c = df_combined[df_combined['cp_flag'] == 'C'].where(df_combined['date'] == '2021-12-31').where(df_combined['TTM'] < 80).dropna()\n",
    "p = df_combined[df_combined['cp_flag'] == 'P'].where(df_combined['date'] == '2021-12-31').where(df_combined['TTM'] < 80).dropna()\n",
    "c.head()"
   ]
  },
  {
   "cell_type": "code",
   "execution_count": null,
   "metadata": {},
   "outputs": [],
   "source": [
    "print('{} calls and {} puts on 2021-12-31'.format(len(c), len(p)))"
   ]
  },
  {
   "cell_type": "code",
   "execution_count": null,
   "metadata": {},
   "outputs": [],
   "source": [
    "# 3D IV plot for calls\n",
    "# something needed here about colorbar\n",
    "plot = go.Figure()\n",
    "plot.add_trace(go.Mesh3d(\n",
    "        x=c['strike_price'], \n",
    "        y=c['TTM'], \n",
    "        z=c['impl_volatility'],\n",
    "        name='Call IV',\n",
    "        colorbar_title='IV',\n",
    "        colorscale='Turbo', # Virdis\n",
    "        # This line is the key to the color gradient!!!!\n",
    "        #####\n",
    "        intensity =c['impl_volatility'],   ##### <- hard to find on the internet\n",
    "        #####\n",
    "        opacity=0.7,\n",
    "        showscale=True))\n",
    "\n",
    "plot.update_layout(title='Call Vol Surface',\n",
    "        # You have to pass this scene variable for labels, I have no idea why.\n",
    "        # I can't figure out how else to make the axis labels.\n",
    "        scene = dict(\n",
    "        xaxis_title='Strike',\n",
    "        yaxis_title='TTM',\n",
    "        zaxis_title='IV'),\n",
    "        # size\n",
    "        width=600,\n",
    "        height=600,\n",
    "        # reduce border size\n",
    "        margin=dict(l=20, r=20, b=40, t=40))\n",
    "\n",
    "plot.show()"
   ]
  },
  {
   "cell_type": "code",
   "execution_count": null,
   "metadata": {},
   "outputs": [],
   "source": [
    "my_plot_function(p, color='Deep_r', title='Put')"
   ]
  },
  {
   "cell_type": "code",
   "execution_count": null,
   "metadata": {},
   "outputs": [],
   "source": [
    "print('{} calls and {} puts on 2021-12-31'.format(len(c), len(p)))"
   ]
  },
  {
   "cell_type": "markdown",
   "metadata": {},
   "source": [
    "## Conclusion:  \n",
    "The puts have a much \"cleaner\" looking volatility smile.  This could be because of the extra 7 puts that we have, but I don't think that's necesarily the reason."
   ]
  },
  {
   "cell_type": "code",
   "execution_count": null,
   "metadata": {},
   "outputs": [],
   "source": []
  },
  {
   "cell_type": "markdown",
   "metadata": {},
   "source": [
    "## Next Steps:\n",
    "Per Dr. Clark's idea, what does the vol surface look like when the VIX and VIX3M flip?  \n",
    "Instead of finding any old day, let's find where it flips back and forth a few days in a row.  \n",
    "#### Note:\n",
    "This situation is a rough time to trade the strategy."
   ]
  },
  {
   "cell_type": "code",
   "execution_count": null,
   "metadata": {},
   "outputs": [],
   "source": [
    "df_master.head()\n",
    "# new column to count how many times contango has flipped in a row\n",
    "df_master['flips'] = df_master['Contango'].diff().fillna(0).astype(int)"
   ]
  },
  {
   "cell_type": "code",
   "execution_count": null,
   "metadata": {},
   "outputs": [],
   "source": [
    "df_master['flips'].value_counts()\n"
   ]
  },
  {
   "cell_type": "markdown",
   "metadata": {},
   "source": [
    "To make this easy, I've checked my backtest software.  Fortunately, over this same time period, RT also thinks that the strategy would have flipped 66 timee.  It's always nice to see data agreement. \n",
    "\n",
    "(Markdown is pretty cool)\n",
    "\n",
    "\n",
    "Strategy             |  Result\n",
    ":-------------------------:|:-------------------------:\n",
    "![](images/flips.png)  |  ![](images/pnl.png)"
   ]
  },
  {
   "cell_type": "code",
   "execution_count": null,
   "metadata": {},
   "outputs": [],
   "source": [
    "c = df_combined[df_combined['cp_flag'] == 'C'].where(df_combined['date'] == '2022-03-03').dropna()\n",
    "p = df_combined[df_combined['cp_flag'] == 'P'].where(df_combined['date'] == '2022-03-03').dropna()\n",
    "print('{} calls and {} puts on 2022-03-02'.format(len(c), len(p)))"
   ]
  },
  {
   "cell_type": "markdown",
   "metadata": {},
   "source": [
    "#### Honest Mistake:\n",
    "Option Metrics does not have totally up to date data.  I completely forgot this.  Let's look a at a different time frame."
   ]
  },
  {
   "cell_type": "code",
   "execution_count": null,
   "metadata": {},
   "outputs": [],
   "source": []
  },
  {
   "cell_type": "markdown",
   "metadata": {},
   "source": [
    "Strategy             |  Result\n",
    ":-------------------------:|:-------------------------:\n",
    "![](images/2020_1.png)  |  ![](images/2020_2.png)"
   ]
  },
  {
   "cell_type": "markdown",
   "metadata": {},
   "source": [
    "The VXX reverse splits every so often.  The most recent was on April 23rd of 2021.  The next trading day was the 26th.  \n",
    "Let's check it out."
   ]
  },
  {
   "cell_type": "code",
   "execution_count": null,
   "metadata": {},
   "outputs": [],
   "source": [
    "date = '2021-04-26'\n",
    "c = df_combined[df_combined['cp_flag'] == 'C'].where(df_combined['date'] == date).dropna().where(df_combined['TTM'] < 80).dropna()\n",
    "p = df_combined[df_combined['cp_flag'] == 'P'].where(df_combined['date'] == date).dropna().where(df_combined['TTM'] < 80).dropna()\n",
    "print('{} calls and {} puts on {}'.format(len(c), len(p), date))"
   ]
  },
  {
   "cell_type": "code",
   "execution_count": null,
   "metadata": {},
   "outputs": [],
   "source": [
    "# I cant commit the large and XL csv files - let's save the modified data set for ease of use on other PCs or if someone wants to clone this.\n",
    "# df_combined.to_csv('df_combined.csv')"
   ]
  },
  {
   "cell_type": "code",
   "execution_count": null,
   "metadata": {},
   "outputs": [],
   "source": [
    "my_plot_function(p, color='Turbo', title='Call')"
   ]
  },
  {
   "cell_type": "code",
   "execution_count": null,
   "metadata": {},
   "outputs": [],
   "source": [
    "my_plot_function(p, color='Deep_r', title='Put')"
   ]
  },
  {
   "cell_type": "code",
   "execution_count": 45,
   "metadata": {},
   "outputs": [
    {
     "name": "stdout",
     "output_type": "stream",
     "text": [
      "1\n"
     ]
    }
   ],
   "source": [
    "df_combined['date'].value_counts().head(5)\n",
    "# what day of the week was 2021-05-11 using datetime\n",
    "print(dt.datetime(2021, 5, 11).weekday())"
   ]
  },
  {
   "cell_type": "markdown",
   "metadata": {},
   "source": [
    "At this point in time in 2021, what has been going on with the strategy?  Again, the easiest way is the backtester.\n",
    "![](images/2020backtest.png)\n",
    "\n"
   ]
  },
  {
   "cell_type": "code",
   "execution_count": null,
   "metadata": {},
   "outputs": [],
   "source": [
    "date = '2021-04-26'\n",
    "c = df_combined[df_combined['cp_flag'] == 'C'].where(df_combined['date'] == date).dropna().where(df_combined['TTM'] < 80).dropna()\n",
    "p = df_combined[df_combined['cp_flag'] == 'P'].where(df_combined['date'] == date).dropna().where(df_combined['TTM'] < 80).dropna()\n",
    "print('{} calls and {} puts on {}'.format(len(c), len(p), date))"
   ]
  }
 ],
 "metadata": {
  "interpreter": {
   "hash": "949777d72b0d2535278d3dc13498b2535136f6dfe0678499012e853ee9abcab1"
  },
  "kernelspec": {
   "display_name": "Python 3.9.0 64-bit",
   "language": "python",
   "name": "python3"
  },
  "language_info": {
   "codemirror_mode": {
    "name": "ipython",
    "version": 3
   },
   "file_extension": ".py",
   "mimetype": "text/x-python",
   "name": "python",
   "nbconvert_exporter": "python",
   "pygments_lexer": "ipython3",
   "version": "3.9.0"
  },
  "orig_nbformat": 4
 },
 "nbformat": 4,
 "nbformat_minor": 2
}
