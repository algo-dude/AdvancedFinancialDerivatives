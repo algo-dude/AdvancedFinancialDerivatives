{
 "cells": [
  {
   "cell_type": "code",
   "execution_count": 1,
   "metadata": {},
   "outputs": [
    {
     "name": "stdout",
     "output_type": "stream",
     "text": [
      "[*********************100%***********************]  1 of 1 completed\n",
      "[*********************100%***********************]  1 of 1 completed\n"
     ]
    }
   ],
   "source": [
    "import pandas as pd\n",
    "import numpy as np\n",
    "import matplotlib.pyplot as plt\n",
    "# set plot width here\n",
    "plt.rcParams['figure.figsize'] = (15, 10)\n",
    "from functions import import_data, check_contango\n",
    "today = pd.to_datetime('today').strftime('%Y-%m-%d')\n",
    "\n",
    "\n",
    "\n",
    "tickers = ['^VIX','^VIX3M', 'VXX']\n",
    "\n",
    "VIX = import_data(tickers[0], '2020-01-01', today, '1d')\n",
    "VIX3M = import_data(tickers[1], '2020-01-01', today, '1d')\n",
    "# VXX = import_data(tickers[2], '2020-01-01', today, '1d')\n"
   ]
  },
  {
   "cell_type": "code",
   "execution_count": 2,
   "metadata": {},
   "outputs": [],
   "source": [
    "# plot vix and vix3m for the past month\n",
    "# plt.plot(VIX[-10:].index, VIX[-10:]['Close'], label='VIX')\n",
    "# plt.plot(VIX3M[-10:].index, VIX3M[-10:]['Close'], label='VIX3M')\n",
    "# plt.legend()\n",
    "# plt.show()\n"
   ]
  },
  {
   "cell_type": "code",
   "execution_count": 3,
   "metadata": {},
   "outputs": [
    {
     "name": "stdout",
     "output_type": "stream",
     "text": [
      "31.770000457763672\n",
      "33.31999969482422\n"
     ]
    }
   ],
   "source": [
    "print(VIX['Close'].iloc[-1])\n",
    "print(VIX3M['Close'].iloc[-1])\n",
    "\n"
   ]
  },
  {
   "cell_type": "code",
   "execution_count": 4,
   "metadata": {},
   "outputs": [
    {
     "data": {
      "text/plain": [
       "numpy.float64"
      ]
     },
     "execution_count": 4,
     "metadata": {},
     "output_type": "execute_result"
    }
   ],
   "source": [
    "type(VIX3M['Close'].iloc[-1])"
   ]
  },
  {
   "cell_type": "code",
   "execution_count": 5,
   "metadata": {},
   "outputs": [],
   "source": [
    "def apply_contango(df1, df2):\n",
    "    '''\n",
    "    Generate a list of dates with contango.\n",
    "    '''\n",
    "    temp = pd.Series\n",
    "    # give temp index of df1\n",
    "    temp.index = df1.index\n",
    "    # compare each Close price on each index\n",
    "    for i in range(len(df1)):\n",
    "        temp.iloc[i] = check_contango(df1['Close'].iloc[i], df2.iloc['Close'][i])\n",
    "        \n",
    "    return temp"
   ]
  },
  {
   "cell_type": "code",
   "execution_count": 8,
   "metadata": {},
   "outputs": [],
   "source": [
    "df_master = pd.DataFrame(index=VIX.index)\n",
    "df_master['VIX'] = VIX['Close']\n",
    "df_master['VIX3M'] = VIX3M['Close']\n",
    "df_master['Contango'] = df_master['VIX'] < df_master['VIX3M']\n"
   ]
  },
  {
   "cell_type": "code",
   "execution_count": 9,
   "metadata": {},
   "outputs": [
    {
     "data": {
      "text/html": [
       "<div>\n",
       "<style scoped>\n",
       "    .dataframe tbody tr th:only-of-type {\n",
       "        vertical-align: middle;\n",
       "    }\n",
       "\n",
       "    .dataframe tbody tr th {\n",
       "        vertical-align: top;\n",
       "    }\n",
       "\n",
       "    .dataframe thead th {\n",
       "        text-align: right;\n",
       "    }\n",
       "</style>\n",
       "<table border=\"1\" class=\"dataframe\">\n",
       "  <thead>\n",
       "    <tr style=\"text-align: right;\">\n",
       "      <th></th>\n",
       "      <th>VIX</th>\n",
       "      <th>VIX3M</th>\n",
       "      <th>Contango</th>\n",
       "    </tr>\n",
       "    <tr>\n",
       "      <th>Date</th>\n",
       "      <th></th>\n",
       "      <th></th>\n",
       "      <th></th>\n",
       "    </tr>\n",
       "  </thead>\n",
       "  <tbody>\n",
       "    <tr>\n",
       "      <th>2020-01-02</th>\n",
       "      <td>12.470000</td>\n",
       "      <td>15.190000</td>\n",
       "      <td>True</td>\n",
       "    </tr>\n",
       "    <tr>\n",
       "      <th>2020-01-03</th>\n",
       "      <td>14.020000</td>\n",
       "      <td>16.010000</td>\n",
       "      <td>True</td>\n",
       "    </tr>\n",
       "    <tr>\n",
       "      <th>2020-01-06</th>\n",
       "      <td>13.850000</td>\n",
       "      <td>15.920000</td>\n",
       "      <td>True</td>\n",
       "    </tr>\n",
       "    <tr>\n",
       "      <th>2020-01-07</th>\n",
       "      <td>13.790000</td>\n",
       "      <td>15.860000</td>\n",
       "      <td>True</td>\n",
       "    </tr>\n",
       "    <tr>\n",
       "      <th>2020-01-08</th>\n",
       "      <td>13.450000</td>\n",
       "      <td>15.400000</td>\n",
       "      <td>True</td>\n",
       "    </tr>\n",
       "    <tr>\n",
       "      <th>...</th>\n",
       "      <td>...</td>\n",
       "      <td>...</td>\n",
       "      <td>...</td>\n",
       "    </tr>\n",
       "    <tr>\n",
       "      <th>2022-03-08</th>\n",
       "      <td>35.130001</td>\n",
       "      <td>35.000000</td>\n",
       "      <td>False</td>\n",
       "    </tr>\n",
       "    <tr>\n",
       "      <th>2022-03-09</th>\n",
       "      <td>32.450001</td>\n",
       "      <td>33.060001</td>\n",
       "      <td>True</td>\n",
       "    </tr>\n",
       "    <tr>\n",
       "      <th>2022-03-10</th>\n",
       "      <td>30.230000</td>\n",
       "      <td>31.520000</td>\n",
       "      <td>True</td>\n",
       "    </tr>\n",
       "    <tr>\n",
       "      <th>2022-03-11</th>\n",
       "      <td>30.750000</td>\n",
       "      <td>32.340000</td>\n",
       "      <td>True</td>\n",
       "    </tr>\n",
       "    <tr>\n",
       "      <th>2022-03-14</th>\n",
       "      <td>31.770000</td>\n",
       "      <td>33.320000</td>\n",
       "      <td>True</td>\n",
       "    </tr>\n",
       "  </tbody>\n",
       "</table>\n",
       "<p>554 rows × 3 columns</p>\n",
       "</div>"
      ],
      "text/plain": [
       "                  VIX      VIX3M  Contango\n",
       "Date                                      \n",
       "2020-01-02  12.470000  15.190000      True\n",
       "2020-01-03  14.020000  16.010000      True\n",
       "2020-01-06  13.850000  15.920000      True\n",
       "2020-01-07  13.790000  15.860000      True\n",
       "2020-01-08  13.450000  15.400000      True\n",
       "...               ...        ...       ...\n",
       "2022-03-08  35.130001  35.000000     False\n",
       "2022-03-09  32.450001  33.060001      True\n",
       "2022-03-10  30.230000  31.520000      True\n",
       "2022-03-11  30.750000  32.340000      True\n",
       "2022-03-14  31.770000  33.320000      True\n",
       "\n",
       "[554 rows x 3 columns]"
      ]
     },
     "execution_count": 9,
     "metadata": {},
     "output_type": "execute_result"
    }
   ],
   "source": [
    "df_master"
   ]
  },
  {
   "cell_type": "markdown",
   "metadata": {},
   "source": []
  },
  {
   "cell_type": "code",
   "execution_count": null,
   "metadata": {},
   "outputs": [],
   "source": [
    "# get VXX historical options data\n",
    "VXX = import_data('VXX', '2020-01-01', today, '1d')"
   ]
  },
  {
   "cell_type": "code",
   "execution_count": null,
   "metadata": {},
   "outputs": [],
   "source": []
  }
 ],
 "metadata": {
  "interpreter": {
   "hash": "949777d72b0d2535278d3dc13498b2535136f6dfe0678499012e853ee9abcab1"
  },
  "kernelspec": {
   "display_name": "Python 3.9.0 64-bit",
   "language": "python",
   "name": "python3"
  },
  "language_info": {
   "codemirror_mode": {
    "name": "ipython",
    "version": 3
   },
   "file_extension": ".py",
   "mimetype": "text/x-python",
   "name": "python",
   "nbconvert_exporter": "python",
   "pygments_lexer": "ipython3",
   "version": "3.9.0"
  },
  "orig_nbformat": 4
 },
 "nbformat": 4,
 "nbformat_minor": 2
}
