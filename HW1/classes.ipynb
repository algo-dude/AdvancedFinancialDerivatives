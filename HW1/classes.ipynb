{
 "cells": [
  {
   "cell_type": "code",
   "execution_count": null,
   "metadata": {},
   "outputs": [],
   "source": [
    "class scuba():\n",
    "    def __init__(self, name, weight):\n",
    "        self.name = name\n",
    "        self.weight = weight\n",
    "        self.suit_size = 'large'\n",
    "        self.type = 'wet'\n",
    "        self.o2_tank = 'empty'\n",
    "        self.mask = False\n",
    "        self.regulator = False\n",
    "        self.experience = 0\n",
    "        self.allowed_depth = 20         \n",
    "\n",
    "    def suit_up(self, type):\n",
    "        if self.weight > 100:\n",
    "            self.suit_size = 'large'\n",
    "        elif self.weight > 50:\n",
    "            self.suit_size = 'medium'\n",
    "        elif self.weight > 10:\n",
    "            self.suit_size = 'small'\n",
    "        \n",
    "        if type == 'dry':\n",
    "            self.suit_type = 'dry'\n",
    "        elif type == 'wet':\n",
    "            self.suit_type = 'wet'\n",
    "        else:\n",
    "            self.suit_type = 'unknown'\n",
    "        print (self.suit_size, self.suit_type)\n",
    "\n",
    "    def fill_tank(self):\n",
    "        self.o2_tank = 'full'\n",
    "        \n",
    "    def put_on_gear(self):\n",
    "        self.mask = True\n",
    "        self.regulator = True\n",
    "\n",
    "    def do_scuba(self):\n",
    "        if self.o2_tank == 'full' and self.suit_type != 'unknown' and self.mask == True and self.regulator == True:\n",
    "            print ('you did a scuba dive')\n",
    "            self.experience += 1\n",
    "            self.allowed_depth += 5\n",
    "            print (f'{self.name}, your experience is {self.experience} dives and you may dive to {self.allowed_depth} meters')\n",
    "        else:\n",
    "            print ('go fix your gear or whatever')\n",
    "   "
   ]
  },
  {
   "cell_type": "code",
   "execution_count": null,
   "metadata": {},
   "outputs": [],
   "source": [
    "s = scuba('Scuba Seth!', 100)    \n",
    "s.name"
   ]
  },
  {
   "cell_type": "code",
   "execution_count": null,
   "metadata": {},
   "outputs": [],
   "source": [
    "s.suit_size"
   ]
  },
  {
   "cell_type": "code",
   "execution_count": null,
   "metadata": {},
   "outputs": [],
   "source": [
    "s.suit_up('dry')"
   ]
  },
  {
   "cell_type": "code",
   "execution_count": null,
   "metadata": {},
   "outputs": [],
   "source": [
    "s.do_scuba()"
   ]
  },
  {
   "cell_type": "code",
   "execution_count": null,
   "metadata": {},
   "outputs": [],
   "source": [
    "# why does the above cell not work?  what needs to happen first?\n",
    "# do it down below and then rerun the cell above"
   ]
  },
  {
   "cell_type": "code",
   "execution_count": null,
   "metadata": {},
   "outputs": [],
   "source": []
  },
  {
   "cell_type": "code",
   "execution_count": null,
   "metadata": {},
   "outputs": [],
   "source": []
  }
 ],
 "metadata": {
  "interpreter": {
   "hash": "949777d72b0d2535278d3dc13498b2535136f6dfe0678499012e853ee9abcab1"
  },
  "kernelspec": {
   "display_name": "Python 3.9.0 64-bit",
   "language": "python",
   "name": "python3"
  },
  "language_info": {
   "codemirror_mode": {
    "name": "ipython",
    "version": 3
   },
   "file_extension": ".py",
   "mimetype": "text/x-python",
   "name": "python",
   "nbconvert_exporter": "python",
   "pygments_lexer": "ipython3",
   "version": "3.9.0"
  },
  "orig_nbformat": 4
 },
 "nbformat": 4,
 "nbformat_minor": 2
}
